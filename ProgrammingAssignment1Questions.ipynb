{
 "cells": [
  {
   "cell_type": "markdown",
   "metadata": {},
   "source": [
    "# Programming Assignment 1"
   ]
  },
  {
   "cell_type": "markdown",
   "metadata": {},
   "source": [
    "### 1) Using the built-in function input function, create a small program that converts feet to meters and prints meters. Ensure the program allows the user to define the number of feet they would like to have converted to meters and provide instructions to the user of the program on what the program is doing\n",
    "\n",
    "#### 1 Point"
   ]
  },
  {
   "cell_type": "markdown",
   "metadata": {},
   "source": [
    "### 2) Create a function that calculates the average of two numbers with an optional third number and provide a docstring describing what the function is doing\n",
    "\n",
    "#### 2 Points"
   ]
  },
  {
   "cell_type": "markdown",
   "metadata": {},
   "source": [
    "### 3) Create a list of 8 numbers and print the following\n",
    "#### 1) print the last element\n",
    "#### 2) print the 2nd, 3rd and 4th element\n",
    "#### 3) print the first 5 elements\n",
    "#### 4) print the last 3 elements\n",
    "\n",
    "#### 1 Point"
   ]
  },
  {
   "cell_type": "markdown",
   "metadata": {},
   "source": [
    "### 4) Using the list you created in the prior cell, append 2 more numbers using any of the methods you have learned in class and use a for loop to iterate through all the numbers in the list. To each number add two and then divide the result by four. Print all 10 new numbers\n",
    "\n",
    "#### 1 Point"
   ]
  },
  {
   "cell_type": "markdown",
   "metadata": {},
   "source": [
    "### 5) Install scikit-learn, import the LinearRegression function from the linear_model module and return the docstring of the LinearRegression function\n",
    "#### In the first cell install the scikit-learn library and in the second import the LinearRegression function as lm and obtain the docstring\n",
    "\n",
    "#### 1 Point"
   ]
  },
  {
   "cell_type": "markdown",
   "metadata": {},
   "source": [
    "### 6)  Using a for loop and the length built-in function print the average of the following numbers: 12,41,451,31,41,1123,1,2,3,1,2,4,10,4\n",
    "\n",
    "#### 2 Points"
   ]
  },
  {
   "cell_type": "markdown",
   "metadata": {},
   "source": [
    "### 7)  Using the following string: \n",
    "#### \"Python is an interpreted, high-level, general-purpose programming language. Created by Guido van Rossum and first released in 1991, Python's design philosophy emphasizes code readability with its notable use of significant whitespace.\" \n",
    "### Use a for loop and an if statement to print the index and the word associated with index 23\n",
    "\n",
    "#### 2 Point"
   ]
  },
  {
   "cell_type": "markdown",
   "metadata": {},
   "source": [
    "### 8) Using the text below, create a python dictionary and: \n",
    "released = {\n",
    "\t\t'iphone' : 2007,\n",
    "\t\t'iphone 3G' : 2008,\n",
    "\t\t'iphone 3GS' : 2009,\n",
    "\t\t'iphone 4' : 2010,\n",
    "\t\t'iphone 4S' : 2011,\n",
    "\t\t'iphone 5' : 2012,\n",
    "\t\t'iphone 5s' : 2013,\n",
    "\t\t'iphone 6' : 2024,\n",
    "\t\t'iphone 6s' : 2015,\n",
    "\t\t'iphone 7' : 2016,\n",
    "\t\t'iphone 8' : 2017,\n",
    "\t\t'iphone X' : 2017,\n",
    "\t\t'iphone XS' : 2018,\n",
    "\t\t'iphone XS' : 2018,\n",
    "\t\t'iphone 11' : 2019\n",
    "\t\t}\n",
    "#### 1) print the keys in the dictionary\n",
    "#### 2) print the values in the dictionary\n",
    "#### 3) print the items in the dictionary\n",
    "\n",
    "#### 1 Point"
   ]
  },
  {
   "cell_type": "markdown",
   "metadata": {},
   "source": [
    "#### 4) you may have notice that there is a typo in the value associated with the iphone 6 key since the released year was 2014 and not 2024. Programmatically,  iterate over all keys and values in the dictionary, and assign the correct value to the iphone 6 key and print the corrected Python dictionary\n",
    "\n",
    "#### 2 Points"
   ]
  },
  {
   "cell_type": "markdown",
   "metadata": {},
   "source": [
    "###  9)  Create a program that takes two inputs:\n",
    "#### 1) The name of a file with extension .txt saved in your current directory (you can run a cell with command !ls to list files in your current directory)\n",
    "#### 2) The word you want to count\n",
    "### The program will then create a dictionary with a key of the word you selected and as value the the number of times the selected word appears in the text\n",
    "#### You will have to use a combination of built-in functions, if statements, lists, dictionaries, and for loops so you will be tested in all the material covered in the class\n",
    "#### To test your program and make sure it is working correctly, the output of your program should look like this:\n",
    "##### Enter the name of your file:  MHMarquette.txt\n",
    "##### Enter the word you want to count:  Marquette\n",
    "##### ------------------------------------------------------\n",
    "##### {'Marquette': 23}\n",
    "\n",
    "#### 2 points"
   ]
  },
  {
   "cell_type": "code",
   "execution_count": null,
   "metadata": {},
   "outputs": [],
   "source": []
  }
 ],
 "metadata": {
  "kernelspec": {
   "display_name": "Python 3",
   "language": "python",
   "name": "python3"
  },
  "language_info": {
   "codemirror_mode": {
    "name": "ipython",
    "version": 3
   },
   "file_extension": ".py",
   "mimetype": "text/x-python",
   "name": "python",
   "nbconvert_exporter": "python",
   "pygments_lexer": "ipython3",
   "version": "3.7.4"
  }
 },
 "nbformat": 4,
 "nbformat_minor": 4
}
