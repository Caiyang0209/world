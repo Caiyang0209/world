{
 "cells": [
  {
   "cell_type": "markdown",
   "metadata": {},
   "source": [
    "# Programming Assignment 2"
   ]
  },
  {
   "cell_type": "markdown",
   "metadata": {},
   "source": [
    "### 1) Import the pandas library as pd, then use the read_csv function to import the prices15 csv file, make sure that you parse_dates and also define as the column index the 'date' column. Print the first 3 records and provide more information on the dataframe with the info method\n",
    "#### 1 Point"
   ]
  },
  {
   "cell_type": "code",
   "execution_count": 283,
   "metadata": {},
   "outputs": [
    {
     "name": "stdout",
     "output_type": "stream",
     "text": [
      "           symbol        open       close         low        high      volume\n",
      "date                                                                         \n",
      "2015-01-02      A   41.180000   40.560001   40.369999   41.310001   1529200.0\n",
      "2015-01-02    AAL   54.279999   53.910000   53.070000   54.599998  10748600.0\n",
      "2015-01-02    AAP  160.850006  158.559998  157.470001  162.500000    509800.0\n",
      "<class 'pandas.core.frame.DataFrame'>\n",
      "DatetimeIndex: 126125 entries, 2015-01-02 to NaT\n",
      "Data columns (total 6 columns):\n",
      "symbol    124957 non-null object\n",
      "open      124957 non-null float64\n",
      "close     124957 non-null float64\n",
      "low       124957 non-null float64\n",
      "high      124957 non-null float64\n",
      "volume    124957 non-null float64\n",
      "dtypes: float64(5), object(1)\n",
      "memory usage: 6.7+ MB\n",
      "None\n"
     ]
    }
   ],
   "source": []
  },
  {
   "cell_type": "markdown",
   "metadata": {},
   "source": [
    "### 2) \n",
    "### Create a DataFrame called 'google' by filtering only records where the symbol is equal to 'GOOGL' and print the last 3 records of the DataFrame\n",
    "### Create a DataFrame called 'apple' by filtering only records where the symbol is equal to 'AAPL' and print the first 3 records of the DataFrame"
   ]
  },
  {
   "cell_type": "markdown",
   "metadata": {},
   "source": [
    "#### 1 Point"
   ]
  },
  {
   "cell_type": "code",
   "execution_count": 284,
   "metadata": {},
   "outputs": [
    {
     "name": "stdout",
     "output_type": "stream",
     "text": [
      "           symbol        open       close         low        high     volume\n",
      "date                                                                        \n",
      "2015-12-29  GOOGL  786.989990  793.960022  786.200012  798.690002  1921500.0\n",
      "2015-12-30  GOOGL  793.960022  790.299988  787.200012  796.460022  1428300.0\n",
      "2015-12-31  GOOGL  787.820007  778.010010  777.320007  788.330017  1629300.0\n"
     ]
    }
   ],
   "source": []
  },
  {
   "cell_type": "code",
   "execution_count": 285,
   "metadata": {},
   "outputs": [
    {
     "name": "stdout",
     "output_type": "stream",
     "text": [
      "           symbol        open       close         low        high      volume\n",
      "date                                                                         \n",
      "2015-01-02   AAPL  111.389999  109.330002  107.349998  111.440002  53204600.0\n",
      "2015-01-05   AAPL  108.290001  106.250000  105.410004  108.650002  64285500.0\n",
      "2015-01-06   AAPL  106.540001  106.260002  104.629997  107.430000  65797100.0\n"
     ]
    }
   ],
   "source": []
  },
  {
   "cell_type": "markdown",
   "metadata": {},
   "source": [
    "### 3) Stack both dataframes to create a DataFrame of Apple and Google. Name this new DataFrame apple_google. \n",
    "#### Check that you performed this operations correctly by printing the unique values associated with the column symbol (['GOOGL' 'AAPL']). Print the info of the DataFrame and in a commment in your code write the size of the DataFrame (memory usage)\n",
    "#### 1 Point"
   ]
  },
  {
   "cell_type": "code",
   "execution_count": 286,
   "metadata": {},
   "outputs": [
    {
     "name": "stdout",
     "output_type": "stream",
     "text": [
      "['GOOGL' 'AAPL']\n",
      "<class 'pandas.core.frame.DataFrame'>\n",
      "DatetimeIndex: 504 entries, 2015-01-02 to 2015-12-31\n",
      "Data columns (total 6 columns):\n",
      "symbol    504 non-null object\n",
      "open      504 non-null float64\n",
      "close     504 non-null float64\n",
      "low       504 non-null float64\n",
      "high      504 non-null float64\n",
      "volume    504 non-null float64\n",
      "dtypes: float64(5), object(1)\n",
      "memory usage: 27.6+ KB\n"
     ]
    }
   ],
   "source": []
  },
  {
   "cell_type": "markdown",
   "metadata": {},
   "source": [
    "### 4) Print a DataFrame using conditonal statements where the volume > 2200000 AND the open price is > 770 AND the ticker symbol = 'GOOGL'\n",
    "\n",
    "#### 1 Point"
   ]
  },
  {
   "cell_type": "code",
   "execution_count": 287,
   "metadata": {},
   "outputs": [
    {
     "name": "stdout",
     "output_type": "stream",
     "text": [
      "           symbol        open       close         low        high     volume\n",
      "date                                                                        \n",
      "2015-11-24  GOOGL  772.960022  769.630005  758.109985  775.989990  2394000.0\n",
      "2015-12-02  GOOGL  785.250000  777.849976  776.429993  793.049988  2343800.0\n",
      "2015-12-09  GOOGL  771.099976  762.549988  752.010010  776.090027  2327500.0\n"
     ]
    }
   ],
   "source": []
  },
  {
   "cell_type": "markdown",
   "metadata": {},
   "source": [
    "### 5) \n",
    "#### 0.33 points print the average volume for the apple_google DataFrame\n",
    "#### 0.33 points print the max close price  of the apple_google DataFrame\n",
    "#### 0.33 points print the median open price of apple_google filtering for Google only"
   ]
  },
  {
   "cell_type": "code",
   "execution_count": 288,
   "metadata": {},
   "outputs": [
    {
     "name": "stdout",
     "output_type": "stream",
     "text": [
      "27003624.404761903\n"
     ]
    }
   ],
   "source": []
  },
  {
   "cell_type": "code",
   "execution_count": 289,
   "metadata": {},
   "outputs": [
    {
     "name": "stdout",
     "output_type": "stream",
     "text": [
      "793.960022\n"
     ]
    }
   ],
   "source": []
  },
  {
   "cell_type": "code",
   "execution_count": 290,
   "metadata": {},
   "outputs": [
    {
     "data": {
      "text/plain": [
       "568.2200015"
      ]
     },
     "execution_count": 290,
     "metadata": {},
     "output_type": "execute_result"
    }
   ],
   "source": []
  },
  {
   "cell_type": "markdown",
   "metadata": {},
   "source": [
    "### 6)  Create another column in the apple_google DataFrame named diff_daily_price by substracting the low price from the high price. Print the first 3 records of the updated DataFrame\n",
    "\n",
    "#### 1 Points"
   ]
  },
  {
   "cell_type": "code",
   "execution_count": 280,
   "metadata": {},
   "outputs": [
    {
     "name": "stdout",
     "output_type": "stream",
     "text": [
      "           symbol        open       close         low        high     volume  \\\n",
      "date                                                                           \n",
      "2015-01-02  GOOGL  532.599976  529.549988  527.880005  535.799988  1324000.0   \n",
      "2015-01-05  GOOGL  527.150024  519.460022  517.750000  527.989990  2059100.0   \n",
      "2015-01-06  GOOGL  520.500000  506.640015  505.549988  521.210022  2722800.0   \n",
      "\n",
      "            diff_daily_price  google_max       date  year  month  day  \n",
      "date                                                                   \n",
      "2015-01-02          7.919983  798.690002 2015-01-02  2015      1    2  \n",
      "2015-01-05         10.239990  798.690002 2015-01-05  2015      1    5  \n",
      "2015-01-06         15.660034  798.690002 2015-01-06  2015      1    6  \n"
     ]
    }
   ],
   "source": []
  },
  {
   "cell_type": "markdown",
   "metadata": {},
   "source": [
    "### 7) Create another column in the apple_google DataFrame named google_max that displays the max value of the high column associated with GOOGL only (798.69). Print the 3 first three records of that column\n",
    "#### 1 point"
   ]
  },
  {
   "cell_type": "code",
   "execution_count": 278,
   "metadata": {},
   "outputs": [
    {
     "name": "stdout",
     "output_type": "stream",
     "text": [
      "date\n",
      "2015-01-02    798.690002\n",
      "2015-01-05    798.690002\n",
      "2015-01-06    798.690002\n",
      "Name: google_max, dtype: float64\n"
     ]
    }
   ],
   "source": []
  },
  {
   "cell_type": "markdown",
   "metadata": {},
   "source": [
    "### 8) Using one of the methods learned in class or in the Week_Three_Pandas notebook, create another column called 'date' that is equal to the current index in the apple_google DataFrame. Print the first 3 records of the DataFrame\n",
    "#### 1 point"
   ]
  },
  {
   "cell_type": "code",
   "execution_count": 291,
   "metadata": {},
   "outputs": [
    {
     "data": {
      "text/html": [
       "<div>\n",
       "<style scoped>\n",
       "    .dataframe tbody tr th:only-of-type {\n",
       "        vertical-align: middle;\n",
       "    }\n",
       "\n",
       "    .dataframe tbody tr th {\n",
       "        vertical-align: top;\n",
       "    }\n",
       "\n",
       "    .dataframe thead th {\n",
       "        text-align: right;\n",
       "    }\n",
       "</style>\n",
       "<table border=\"1\" class=\"dataframe\">\n",
       "  <thead>\n",
       "    <tr style=\"text-align: right;\">\n",
       "      <th></th>\n",
       "      <th>symbol</th>\n",
       "      <th>open</th>\n",
       "      <th>close</th>\n",
       "      <th>low</th>\n",
       "      <th>high</th>\n",
       "      <th>volume</th>\n",
       "      <th>date</th>\n",
       "    </tr>\n",
       "    <tr>\n",
       "      <th>date</th>\n",
       "      <th></th>\n",
       "      <th></th>\n",
       "      <th></th>\n",
       "      <th></th>\n",
       "      <th></th>\n",
       "      <th></th>\n",
       "      <th></th>\n",
       "    </tr>\n",
       "  </thead>\n",
       "  <tbody>\n",
       "    <tr>\n",
       "      <td>2015-01-02</td>\n",
       "      <td>GOOGL</td>\n",
       "      <td>532.599976</td>\n",
       "      <td>529.549988</td>\n",
       "      <td>527.880005</td>\n",
       "      <td>535.799988</td>\n",
       "      <td>1324000.0</td>\n",
       "      <td>2015-01-02</td>\n",
       "    </tr>\n",
       "    <tr>\n",
       "      <td>2015-01-05</td>\n",
       "      <td>GOOGL</td>\n",
       "      <td>527.150024</td>\n",
       "      <td>519.460022</td>\n",
       "      <td>517.750000</td>\n",
       "      <td>527.989990</td>\n",
       "      <td>2059100.0</td>\n",
       "      <td>2015-01-05</td>\n",
       "    </tr>\n",
       "    <tr>\n",
       "      <td>2015-01-06</td>\n",
       "      <td>GOOGL</td>\n",
       "      <td>520.500000</td>\n",
       "      <td>506.640015</td>\n",
       "      <td>505.549988</td>\n",
       "      <td>521.210022</td>\n",
       "      <td>2722800.0</td>\n",
       "      <td>2015-01-06</td>\n",
       "    </tr>\n",
       "  </tbody>\n",
       "</table>\n",
       "</div>"
      ],
      "text/plain": [
       "           symbol        open       close         low        high     volume  \\\n",
       "date                                                                           \n",
       "2015-01-02  GOOGL  532.599976  529.549988  527.880005  535.799988  1324000.0   \n",
       "2015-01-05  GOOGL  527.150024  519.460022  517.750000  527.989990  2059100.0   \n",
       "2015-01-06  GOOGL  520.500000  506.640015  505.549988  521.210022  2722800.0   \n",
       "\n",
       "                 date  \n",
       "date                   \n",
       "2015-01-02 2015-01-02  \n",
       "2015-01-05 2015-01-05  \n",
       "2015-01-06 2015-01-06  "
      ]
     },
     "execution_count": 291,
     "metadata": {},
     "output_type": "execute_result"
    }
   ],
   "source": []
  },
  {
   "cell_type": "markdown",
   "metadata": {},
   "source": [
    "### 9) Create three more columns ('year'), ('month') and ('day') using a pandas to extract the year, month and day from the date column. Print the first three records of the updated DataFrame\n",
    "#### 1 point"
   ]
  },
  {
   "cell_type": "code",
   "execution_count": 292,
   "metadata": {},
   "outputs": [
    {
     "data": {
      "text/html": [
       "<div>\n",
       "<style scoped>\n",
       "    .dataframe tbody tr th:only-of-type {\n",
       "        vertical-align: middle;\n",
       "    }\n",
       "\n",
       "    .dataframe tbody tr th {\n",
       "        vertical-align: top;\n",
       "    }\n",
       "\n",
       "    .dataframe thead th {\n",
       "        text-align: right;\n",
       "    }\n",
       "</style>\n",
       "<table border=\"1\" class=\"dataframe\">\n",
       "  <thead>\n",
       "    <tr style=\"text-align: right;\">\n",
       "      <th></th>\n",
       "      <th>symbol</th>\n",
       "      <th>open</th>\n",
       "      <th>close</th>\n",
       "      <th>low</th>\n",
       "      <th>high</th>\n",
       "      <th>volume</th>\n",
       "      <th>date</th>\n",
       "      <th>year</th>\n",
       "      <th>month</th>\n",
       "      <th>day</th>\n",
       "    </tr>\n",
       "    <tr>\n",
       "      <th>date</th>\n",
       "      <th></th>\n",
       "      <th></th>\n",
       "      <th></th>\n",
       "      <th></th>\n",
       "      <th></th>\n",
       "      <th></th>\n",
       "      <th></th>\n",
       "      <th></th>\n",
       "      <th></th>\n",
       "      <th></th>\n",
       "    </tr>\n",
       "  </thead>\n",
       "  <tbody>\n",
       "    <tr>\n",
       "      <td>2015-01-02</td>\n",
       "      <td>GOOGL</td>\n",
       "      <td>532.599976</td>\n",
       "      <td>529.549988</td>\n",
       "      <td>527.880005</td>\n",
       "      <td>535.799988</td>\n",
       "      <td>1324000.0</td>\n",
       "      <td>2015-01-02</td>\n",
       "      <td>2015</td>\n",
       "      <td>1</td>\n",
       "      <td>2</td>\n",
       "    </tr>\n",
       "    <tr>\n",
       "      <td>2015-01-05</td>\n",
       "      <td>GOOGL</td>\n",
       "      <td>527.150024</td>\n",
       "      <td>519.460022</td>\n",
       "      <td>517.750000</td>\n",
       "      <td>527.989990</td>\n",
       "      <td>2059100.0</td>\n",
       "      <td>2015-01-05</td>\n",
       "      <td>2015</td>\n",
       "      <td>1</td>\n",
       "      <td>5</td>\n",
       "    </tr>\n",
       "    <tr>\n",
       "      <td>2015-01-06</td>\n",
       "      <td>GOOGL</td>\n",
       "      <td>520.500000</td>\n",
       "      <td>506.640015</td>\n",
       "      <td>505.549988</td>\n",
       "      <td>521.210022</td>\n",
       "      <td>2722800.0</td>\n",
       "      <td>2015-01-06</td>\n",
       "      <td>2015</td>\n",
       "      <td>1</td>\n",
       "      <td>6</td>\n",
       "    </tr>\n",
       "  </tbody>\n",
       "</table>\n",
       "</div>"
      ],
      "text/plain": [
       "           symbol        open       close         low        high     volume  \\\n",
       "date                                                                           \n",
       "2015-01-02  GOOGL  532.599976  529.549988  527.880005  535.799988  1324000.0   \n",
       "2015-01-05  GOOGL  527.150024  519.460022  517.750000  527.989990  2059100.0   \n",
       "2015-01-06  GOOGL  520.500000  506.640015  505.549988  521.210022  2722800.0   \n",
       "\n",
       "                 date  year  month  day  \n",
       "date                                     \n",
       "2015-01-02 2015-01-02  2015      1    2  \n",
       "2015-01-05 2015-01-05  2015      1    5  \n",
       "2015-01-06 2015-01-06  2015      1    6  "
      ]
     },
     "execution_count": 292,
     "metadata": {},
     "output_type": "execute_result"
    }
   ],
   "source": []
  },
  {
   "cell_type": "markdown",
   "metadata": {},
   "source": [
    "### 10) Using the groupby method, calculate and display the mean value of the open price of both Apple and Google by month\n",
    "#### 1 point"
   ]
  },
  {
   "cell_type": "code",
   "execution_count": 260,
   "metadata": {},
   "outputs": [
    {
     "data": {
      "text/plain": [
       "month\n",
       "1     313.822003\n",
       "2     332.100262\n",
       "3     346.410679\n",
       "4     338.715953\n",
       "5     338.375000\n",
       "6     339.608860\n",
       "7     370.623410\n",
       "8     391.851665\n",
       "9     380.950954\n",
       "10    401.722502\n",
       "11    438.387500\n",
       "12    441.830228\n",
       "Name: open, dtype: float64"
      ]
     },
     "execution_count": 260,
     "metadata": {},
     "output_type": "execute_result"
    }
   ],
   "source": []
  },
  {
   "cell_type": "markdown",
   "metadata": {},
   "source": [
    "### 11) Using the groupby method, calculate and display the max value of the open column by day from 1 to 31 for Apple only. \n",
    "#### 1 point"
   ]
  },
  {
   "cell_type": "code",
   "execution_count": 294,
   "metadata": {},
   "outputs": [
    {
     "name": "stdout",
     "output_type": "stream",
     "text": [
      "day\n",
      "1     130.279999\n",
      "2     129.860001\n",
      "3     130.660004\n",
      "4     129.580002\n",
      "5     129.500000\n",
      "6     128.399994\n",
      "7     127.639999\n",
      "8     128.899994\n",
      "9     127.959999\n",
      "10    127.919998\n",
      "11    129.179993\n",
      "12    128.190002\n",
      "13    128.369995\n",
      "14    127.410004\n",
      "15    129.070007\n",
      "16    127.739998\n",
      "17    129.080002\n",
      "18    128.380005\n",
      "19    130.690002\n",
      "20    130.970001\n",
      "21    132.850006\n",
      "22    131.600006\n",
      "23    130.020004\n",
      "24    132.940002\n",
      "25    131.559998\n",
      "26    132.600006\n",
      "27    132.309998\n",
      "28    134.460007\n",
      "29    131.229996\n",
      "30    128.639999\n",
      "31    126.089996\n",
      "Name: open, dtype: float64\n"
     ]
    }
   ],
   "source": []
  },
  {
   "cell_type": "markdown",
   "metadata": {},
   "source": [
    "### 12) Create a DataFrame called securities by importing the securities.csv file using the read_csv function. Do not customize the import. Print the first three records of the securities DataFrame\n",
    "#### 1 point"
   ]
  },
  {
   "cell_type": "code",
   "execution_count": 296,
   "metadata": {},
   "outputs": [
    {
     "name": "stdout",
     "output_type": "stream",
     "text": [
      "  Ticker symbol             Security SEC filings  GICS Sector  \\\n",
      "0           MMM           3M Company     reports  Industrials   \n",
      "1           ABT  Abbott Laboratories     reports  Health Care   \n",
      "2          ABBV               AbbVie     reports  Health Care   \n",
      "\n",
      "          GICS Sub Industry  Address of Headquarters Date first added      CIK  \n",
      "0  Industrial Conglomerates      St. Paul, Minnesota              NaN    66740  \n",
      "1     Health Care Equipment  North Chicago, Illinois       1964-03-31     1800  \n",
      "2           Pharmaceuticals  North Chicago, Illinois       2012-12-31  1551152  \n"
     ]
    }
   ],
   "source": []
  },
  {
   "cell_type": "markdown",
   "metadata": {},
   "source": [
    "### 13) Merge the prices15 DataFrame you created in question one with the securities DataFrame you just imported in question 12. Analyze both DataFrames to identify the column from each DataFrame to do the join on. Create a new DataFrame called prices15_securities by merging (inner join) prices15 and securities. Print the first 3 records\n",
    "#### 1 point"
   ]
  },
  {
   "cell_type": "code",
   "execution_count": 263,
   "metadata": {},
   "outputs": [
    {
     "name": "stdout",
     "output_type": "stream",
     "text": [
      "  symbol       open      close        low       high     volume Ticker symbol  \\\n",
      "0      A  41.180000  40.560001  40.369999  41.310001  1529200.0             A   \n",
      "1      A  40.320000  39.799999  39.700001  40.459999  2041800.0             A   \n",
      "2      A  39.810001  39.180000  39.020000  40.020000  2080600.0             A   \n",
      "\n",
      "                   Security SEC filings  GICS Sector      GICS Sub Industry  \\\n",
      "0  Agilent Technologies Inc     reports  Health Care  Health Care Equipment   \n",
      "1  Agilent Technologies Inc     reports  Health Care  Health Care Equipment   \n",
      "2  Agilent Technologies Inc     reports  Health Care  Health Care Equipment   \n",
      "\n",
      "   Address of Headquarters Date first added      CIK  \n",
      "0  Santa Clara, California              NaN  1090872  \n",
      "1  Santa Clara, California              NaN  1090872  \n",
      "2  Santa Clara, California              NaN  1090872  \n"
     ]
    }
   ],
   "source": []
  },
  {
   "cell_type": "markdown",
   "metadata": {},
   "source": [
    "### 14) You will notice that once the merged occured, the symbol and the Ticker symbol columns have the exact same data. Drop the Ticker symbol column and also change the name of the column symbol to company_symbol. Print the first 3 records"
   ]
  },
  {
   "cell_type": "code",
   "execution_count": 264,
   "metadata": {},
   "outputs": [
    {
     "name": "stdout",
     "output_type": "stream",
     "text": [
      "  company_symbol       open      close        low       high     volume  \\\n",
      "0              A  41.180000  40.560001  40.369999  41.310001  1529200.0   \n",
      "1              A  40.320000  39.799999  39.700001  40.459999  2041800.0   \n",
      "2              A  39.810001  39.180000  39.020000  40.020000  2080600.0   \n",
      "\n",
      "  Ticker symbol                  Security SEC filings  GICS Sector  \\\n",
      "0             A  Agilent Technologies Inc     reports  Health Care   \n",
      "1             A  Agilent Technologies Inc     reports  Health Care   \n",
      "2             A  Agilent Technologies Inc     reports  Health Care   \n",
      "\n",
      "       GICS Sub Industry  Address of Headquarters Date first added      CIK  \n",
      "0  Health Care Equipment  Santa Clara, California              NaN  1090872  \n",
      "1  Health Care Equipment  Santa Clara, California              NaN  1090872  \n",
      "2  Health Care Equipment  Santa Clara, California              NaN  1090872  \n"
     ]
    }
   ],
   "source": []
  },
  {
   "cell_type": "markdown",
   "metadata": {},
   "source": [
    "### 15) Using the groupby method, print the average close price by GICS Sector of the new DataFrame prices15_securities\n",
    "#### 1 point"
   ]
  },
  {
   "cell_type": "code",
   "execution_count": 297,
   "metadata": {},
   "outputs": [
    {
     "name": "stdout",
     "output_type": "stream",
     "text": [
      "GICS Sector\n",
      "Consumer Discretionary         106.307607\n",
      "Consumer Staples                75.587241\n",
      "Energy                          58.935638\n",
      "Financials                      66.812489\n",
      "Health Care                    124.758577\n",
      "Industrials                     84.580768\n",
      "Information Technology          84.199695\n",
      "Materials                       89.017597\n",
      "Real Estate                     89.991233\n",
      "Telecommunications Services     33.890730\n",
      "Utilities                       51.893776\n",
      "Name: close, dtype: float64\n"
     ]
    }
   ],
   "source": []
  }
 ],
 "metadata": {
  "kernelspec": {
   "display_name": "Python 3",
   "language": "python",
   "name": "python3"
  },
  "language_info": {
   "codemirror_mode": {
    "name": "ipython",
    "version": 3
   },
   "file_extension": ".py",
   "mimetype": "text/x-python",
   "name": "python",
   "nbconvert_exporter": "python",
   "pygments_lexer": "ipython3",
   "version": "3.7.4"
  }
 },
 "nbformat": 4,
 "nbformat_minor": 4
}
